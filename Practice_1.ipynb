{
 "cells": [
  {
   "cell_type": "code",
   "execution_count": 1,
   "id": "engaging-dispatch",
   "metadata": {},
   "outputs": [
    {
     "name": "stderr",
     "output_type": "stream",
     "text": [
      "C:\\Users\\Leo\\AppData\\Roaming\\Python\\Python37\\site-packages\\numpy\\_distributor_init.py:32: UserWarning: loaded more than 1 DLL from .libs:\n",
      "C:\\Users\\Leo\\AppData\\Roaming\\Python\\Python37\\site-packages\\numpy\\.libs\\libopenblas.GK7GX5KEQ4F6UYO3P26ULGBQYHGQO7J4.gfortran-win_amd64.dll\n",
      "C:\\Users\\Leo\\AppData\\Roaming\\Python\\Python37\\site-packages\\numpy\\.libs\\libopenblas.WCDJNK7YVMPZQ2ME2ZZHJJRJ3JIKNDB7.gfortran-win_amd64.dll\n",
      "  stacklevel=1)\n"
     ]
    }
   ],
   "source": [
    "import numpy as np"
   ]
  },
  {
   "cell_type": "markdown",
   "id": "coordinate-advance",
   "metadata": {},
   "source": [
    "1. Write a NumPy program to test whether none of the elements of a given array is zero. "
   ]
  },
  {
   "cell_type": "code",
   "execution_count": 2,
   "id": "italian-shopper",
   "metadata": {},
   "outputs": [
    {
     "data": {
      "text/plain": [
       "False"
      ]
     },
     "execution_count": 2,
     "metadata": {},
     "output_type": "execute_result"
    }
   ],
   "source": [
    "x = [0, 1, 2, 3, 4]\n",
    "np.all(x) \n",
    "#Test whether all array elements along a given axis evaluate to True."
   ]
  },
  {
   "cell_type": "markdown",
   "id": "armed-importance",
   "metadata": {},
   "source": [
    "Write a NumPy program to test a given array element-wise for finiteness"
   ]
  },
  {
   "cell_type": "code",
   "execution_count": 3,
   "id": "medium-symphony",
   "metadata": {},
   "outputs": [
    {
     "data": {
      "text/plain": [
       "array([ True,  True, False, False])"
      ]
     },
     "execution_count": 3,
     "metadata": {},
     "output_type": "execute_result"
    }
   ],
   "source": [
    "a = np.array([1, 0, np.nan, np.inf])\n",
    "np.isfinite(a)\n",
    "#Test element-wise for finiteness (not infinity or not Not a Number)"
   ]
  },
  {
   "cell_type": "markdown",
   "id": "indoor-drink",
   "metadata": {},
   "source": [
    "Write a NumPy program to test element-wise for positive or negative infinity."
   ]
  },
  {
   "cell_type": "code",
   "execution_count": 4,
   "id": "instrumental-disorder",
   "metadata": {},
   "outputs": [
    {
     "data": {
      "text/plain": [
       "array([False, False, False,  True])"
      ]
     },
     "execution_count": 4,
     "metadata": {},
     "output_type": "execute_result"
    }
   ],
   "source": [
    "np.isinf(a)"
   ]
  },
  {
   "cell_type": "markdown",
   "id": "manufactured-above",
   "metadata": {},
   "source": [
    "Write a NumPy program to test element-wise for NaN of a given array."
   ]
  },
  {
   "cell_type": "code",
   "execution_count": 5,
   "id": "joint-assault",
   "metadata": {},
   "outputs": [
    {
     "data": {
      "text/plain": [
       "array([False, False,  True, False])"
      ]
     },
     "execution_count": 5,
     "metadata": {},
     "output_type": "execute_result"
    }
   ],
   "source": [
    "np.isnan(a)"
   ]
  },
  {
   "cell_type": "markdown",
   "id": "removed-punch",
   "metadata": {},
   "source": [
    "<h2>NumPy: Array Object Exercises</h2>"
   ]
  },
  {
   "cell_type": "markdown",
   "id": "closing-latin",
   "metadata": {},
   "source": [
    "Write a NumPy program to create a 3x3 matrix with values ranging from 2 to 10."
   ]
  },
  {
   "cell_type": "code",
   "execution_count": 12,
   "id": "double-shame",
   "metadata": {},
   "outputs": [
    {
     "name": "stdout",
     "output_type": "stream",
     "text": [
      "[ 2  3  4  5  6  7  8  9 10]\n",
      "[[ 2  3  4]\n",
      " [ 5  6  7]\n",
      " [ 8  9 10]]\n"
     ]
    }
   ],
   "source": [
    "a = np.arange(2,11)\n",
    "print(a)\n",
    "a = a.reshape(3,3)\n",
    "print(a)"
   ]
  },
  {
   "cell_type": "markdown",
   "id": "cathedral-franchise",
   "metadata": {},
   "source": [
    "Write a NumPy program to create a null vector of size 10 and update sixth value to 11"
   ]
  },
  {
   "cell_type": "code",
   "execution_count": 21,
   "id": "emerging-enterprise",
   "metadata": {},
   "outputs": [
    {
     "name": "stdout",
     "output_type": "stream",
     "text": [
      "[0. 0. 0. 0. 0. 0. 0. 0. 0. 0.]\n",
      "[ 0.  0.  0.  0.  0. 11.  0.  0.  0.  0.]\n"
     ]
    }
   ],
   "source": [
    "a = np.zeros(10)\n",
    "print(a)\n",
    "\n",
    "a[5] = 11\n",
    "print(a)"
   ]
  },
  {
   "cell_type": "markdown",
   "id": "maritime-haven",
   "metadata": {},
   "source": [
    "Write a NumPy program to create an array with values ranging from 12 to 38"
   ]
  },
  {
   "cell_type": "code",
   "execution_count": 23,
   "id": "lined-strip",
   "metadata": {},
   "outputs": [
    {
     "name": "stdout",
     "output_type": "stream",
     "text": [
      "[12 13 14 15 16 17 18 19 20 21 22 23 24 25 26 27 28 29 30 31 32 33 34 35\n",
      " 36 37]\n"
     ]
    }
   ],
   "source": [
    "a = np.arange(12, 38)\n",
    "print(a)"
   ]
  },
  {
   "cell_type": "markdown",
   "id": "sophisticated-organ",
   "metadata": {},
   "source": [
    "Write a NumPy program to convert an array to a float type. "
   ]
  },
  {
   "cell_type": "code",
   "execution_count": 26,
   "id": "isolated-benefit",
   "metadata": {},
   "outputs": [
    {
     "ename": "AttributeError",
     "evalue": "'list' object has no attribute 'astype'",
     "output_type": "error",
     "traceback": [
      "\u001b[1;31m---------------------------------------------------------------------------\u001b[0m",
      "\u001b[1;31mAttributeError\u001b[0m                            Traceback (most recent call last)",
      "\u001b[1;32m<ipython-input-26-8be4f9e7c603>\u001b[0m in \u001b[0;36m<module>\u001b[1;34m\u001b[0m\n\u001b[0;32m      1\u001b[0m \u001b[0ma\u001b[0m \u001b[1;33m=\u001b[0m \u001b[1;33m[\u001b[0m\u001b[1;36m1\u001b[0m\u001b[1;33m,\u001b[0m\u001b[1;36m2\u001b[0m\u001b[1;33m,\u001b[0m\u001b[1;36m3\u001b[0m\u001b[1;33m,\u001b[0m\u001b[1;36m4\u001b[0m\u001b[1;33m]\u001b[0m\u001b[1;33m\u001b[0m\u001b[1;33m\u001b[0m\u001b[0m\n\u001b[0;32m      2\u001b[0m \u001b[1;33m\u001b[0m\u001b[0m\n\u001b[1;32m----> 3\u001b[1;33m \u001b[0ma\u001b[0m \u001b[1;33m=\u001b[0m \u001b[0ma\u001b[0m\u001b[1;33m.\u001b[0m\u001b[0mastype\u001b[0m\u001b[1;33m(\u001b[0m\u001b[0mfloat\u001b[0m\u001b[1;33m)\u001b[0m\u001b[1;33m\u001b[0m\u001b[1;33m\u001b[0m\u001b[0m\n\u001b[0m\u001b[0;32m      4\u001b[0m \u001b[0mprint\u001b[0m\u001b[1;33m(\u001b[0m\u001b[0ma\u001b[0m\u001b[1;33m)\u001b[0m\u001b[1;33m\u001b[0m\u001b[1;33m\u001b[0m\u001b[0m\n",
      "\u001b[1;31mAttributeError\u001b[0m: 'list' object has no attribute 'astype'"
     ]
    }
   ],
   "source": [
    "a = [1,2,3,4]\n",
    "\n",
    "a = a.astype(float)\n",
    "print(a)"
   ]
  },
  {
   "cell_type": "code",
   "execution_count": 28,
   "id": "marine-breeding",
   "metadata": {},
   "outputs": [
    {
     "name": "stdout",
     "output_type": "stream",
     "text": [
      "[1. 2. 3. 4.]\n"
     ]
    }
   ],
   "source": [
    "a = np.array(a).astype(float)\n",
    "print(a)"
   ]
  },
  {
   "cell_type": "markdown",
   "id": "fossil-filename",
   "metadata": {},
   "source": [
    "Write a NumPy program to create a 2d array with 1 on the border and 0 inside. "
   ]
  },
  {
   "cell_type": "code",
   "execution_count": 39,
   "id": "champion-sheffield",
   "metadata": {},
   "outputs": [
    {
     "name": "stdout",
     "output_type": "stream",
     "text": [
      "before\n",
      " [[1. 1. 1. 1. 1.]\n",
      " [1. 1. 1. 1. 1.]\n",
      " [1. 1. 1. 1. 1.]\n",
      " [1. 1. 1. 1. 1.]\n",
      " [1. 1. 1. 1. 1.]]\n",
      "------------------------------\n",
      "after \n",
      " [[1. 1. 1. 1. 1.]\n",
      " [1. 0. 0. 0. 1.]\n",
      " [1. 0. 0. 0. 1.]\n",
      " [1. 0. 0. 0. 1.]\n",
      " [1. 1. 1. 1. 1.]]\n"
     ]
    }
   ],
   "source": [
    "a = np.ones((5,5))\n",
    "print(\"before\\n\", a)\n",
    "\n",
    "print(\"-\"*30)\n",
    "a[1:-1, 1:-1] = 0\n",
    "print(\"after \\n\", a)"
   ]
  },
  {
   "cell_type": "markdown",
   "id": "disturbed-stability",
   "metadata": {},
   "source": [
    "Write a NumPy program to add a border (filled with 0's) around an existing array. "
   ]
  },
  {
   "cell_type": "code",
   "execution_count": 40,
   "id": "altered-disco",
   "metadata": {},
   "outputs": [
    {
     "data": {
      "text/plain": [
       "array([[0., 0., 0., 0., 0., 0., 0.],\n",
       "       [0., 1., 1., 1., 1., 1., 0.],\n",
       "       [0., 1., 0., 0., 0., 1., 0.],\n",
       "       [0., 1., 0., 0., 0., 1., 0.],\n",
       "       [0., 1., 0., 0., 0., 1., 0.],\n",
       "       [0., 1., 1., 1., 1., 1., 0.],\n",
       "       [0., 0., 0., 0., 0., 0., 0.]])"
      ]
     },
     "execution_count": 40,
     "metadata": {},
     "output_type": "execute_result"
    }
   ],
   "source": [
    "a = np.pad(a, pad_width=1, mode='constant', constant_values=0)\n",
    "#pad add board for the array\n",
    "a"
   ]
  },
  {
   "cell_type": "markdown",
   "id": "seventh-skill",
   "metadata": {},
   "source": [
    "Write a NumPy program to create an empty and a full array."
   ]
  },
  {
   "cell_type": "code",
   "execution_count": 41,
   "id": "violent-guitar",
   "metadata": {},
   "outputs": [
    {
     "name": "stdout",
     "output_type": "stream",
     "text": [
      "[[0. 0. 0. 0.]\n",
      " [0. 0. 0. 0.]\n",
      " [0. 0. 0. 0.]]\n",
      "[[6 6 6]\n",
      " [6 6 6]\n",
      " [6 6 6]]\n"
     ]
    }
   ],
   "source": [
    "x = np.empty((3,4))\n",
    "print(x)\n",
    "# Create a full array\n",
    "y = np.full((3,3),6)\n",
    "print(y)"
   ]
  },
  {
   "cell_type": "code",
   "execution_count": 45,
   "id": "medium-estimate",
   "metadata": {},
   "outputs": [
    {
     "data": {
      "text/plain": [
       "array([[0., 0.],\n",
       "       [0., 0.],\n",
       "       [0., 0.]])"
      ]
     },
     "execution_count": 45,
     "metadata": {},
     "output_type": "execute_result"
    }
   ],
   "source": [
    "np.empty((3,2))\n",
    "#Return a new array of given shape and type, without initializing entries."
   ]
  },
  {
   "cell_type": "markdown",
   "id": "welsh-andrew",
   "metadata": {},
   "source": [
    "Write a NumPy program to convert the values of Centigrade degrees into Fahrenheit degrees. Centigrade values are stored into a NumPy array."
   ]
  },
  {
   "cell_type": "code",
   "execution_count": 63,
   "id": "boolean-saver",
   "metadata": {},
   "outputs": [
    {
     "data": {
      "text/plain": [
       "array([25, 20,  6,  1, 23, 13, 21, 27,  0, 27])"
      ]
     },
     "execution_count": 63,
     "metadata": {},
     "output_type": "execute_result"
    }
   ],
   "source": [
    "F = np.random.randint(30, size = (10))\n",
    "F"
   ]
  },
  {
   "cell_type": "code",
   "execution_count": 64,
   "id": "incorrect-marshall",
   "metadata": {},
   "outputs": [
    {
     "data": {
      "text/plain": [
       "array([ -3.88888889,  -6.66666667, -14.44444444, -17.22222222,\n",
       "        -5.        , -10.55555556,  -6.11111111,  -2.77777778,\n",
       "       -17.77777778,  -2.77777778])"
      ]
     },
     "execution_count": 64,
     "metadata": {},
     "output_type": "execute_result"
    }
   ],
   "source": [
    "C = 5*F/9 - 5*32/9\n",
    "C"
   ]
  },
  {
   "cell_type": "markdown",
   "id": "burning-mouse",
   "metadata": {},
   "source": [
    "Write a NumPy program to find common values between two arrays. "
   ]
  },
  {
   "cell_type": "code",
   "execution_count": 65,
   "id": "excess-handling",
   "metadata": {},
   "outputs": [
    {
     "name": "stdout",
     "output_type": "stream",
     "text": [
      "Array1:  [ 0 10 20 40 60]\n",
      "Array2:  [0, 40]\n",
      "Compare each element of array1 and array2\n",
      "[ True False False  True False]\n"
     ]
    }
   ],
   "source": [
    "import numpy as np\n",
    "array1 = np.array([0, 10, 20, 40, 60])\n",
    "print(\"Array1: \",array1)\n",
    "array2 = [0, 40]\n",
    "print(\"Array2: \",array2)\n",
    "print(\"Compare each element of array1 and array2\")\n",
    "print(np.in1d(array1, array2))"
   ]
  },
  {
   "cell_type": "markdown",
   "id": "cloudy-louisiana",
   "metadata": {},
   "source": [
    "Write a NumPy program to find common values between two arrays. "
   ]
  },
  {
   "cell_type": "code",
   "execution_count": 67,
   "id": "elder-visit",
   "metadata": {},
   "outputs": [
    {
     "name": "stdout",
     "output_type": "stream",
     "text": [
      "Array1:  [ 0 10 20 40 60]\n",
      "Array2:  [0, 40]\n",
      "Common value: [ 0 40]\n"
     ]
    }
   ],
   "source": [
    "import numpy as np\n",
    "array1 = np.array([0, 10, 20, 40, 60])\n",
    "print(\"Array1: \",array1)\n",
    "array2 = [0, 40]\n",
    "print(\"Array2: \",array2)\n",
    "print(\"Common value:\", np.intersect1d(array1, array2))"
   ]
  },
  {
   "cell_type": "markdown",
   "id": "given-gates",
   "metadata": {},
   "source": [
    "Write a NumPy program to find the indices of the maximum and minimum values along the given axis of an array."
   ]
  },
  {
   "cell_type": "code",
   "execution_count": 72,
   "id": "english-evening",
   "metadata": {},
   "outputs": [
    {
     "name": "stdout",
     "output_type": "stream",
     "text": [
      "0\n",
      "6\n"
     ]
    }
   ],
   "source": [
    "a = np.arange(7)\n",
    "minV = np.argmin(a)\n",
    "print(minV)\n",
    "maxV = np.argmax(a)\n",
    "print(maxV)"
   ]
  },
  {
   "cell_type": "markdown",
   "id": "infectious-fifty",
   "metadata": {},
   "source": [
    "Write a NumPy program compare two given arrays. "
   ]
  },
  {
   "cell_type": "code",
   "execution_count": 75,
   "id": "varying-secret",
   "metadata": {},
   "outputs": [
    {
     "name": "stdout",
     "output_type": "stream",
     "text": [
      "[False False]\n",
      "[ True  True]\n"
     ]
    }
   ],
   "source": [
    "a = np.array([1, 2])\n",
    "b = np.array([4, 5])\n",
    "print(a>b)\n",
    "print(a<b)"
   ]
  },
  {
   "cell_type": "markdown",
   "id": "welsh-yellow",
   "metadata": {},
   "source": [
    "Write a NumPy program to sort an along the first, last axis of an array. "
   ]
  },
  {
   "cell_type": "code",
   "execution_count": 88,
   "id": "outdoor-mailman",
   "metadata": {},
   "outputs": [
    {
     "name": "stdout",
     "output_type": "stream",
     "text": [
      "original array:\n",
      " [[4 6]\n",
      " [2 1]]\n",
      "sort by first axis:\n",
      " [[2 1]\n",
      " [4 6]]\n",
      "sort by last axis:\n",
      " [[4 6]\n",
      " [1 2]]\n"
     ]
    }
   ],
   "source": [
    "a = np.array([[4, 6],[2, 1]])\n",
    "print(\"original array:\\n\", a)\n",
    "\n",
    "x = np.sort(a, axis = 0)\n",
    "print(\"sort by first axis:\\n\", x)\n",
    "\n",
    "y = np.sort(a, axis = 1)\n",
    "print(\"sort by last axis:\\n\", y)"
   ]
  },
  {
   "cell_type": "code",
   "execution_count": null,
   "id": "honest-stockholm",
   "metadata": {},
   "outputs": [],
   "source": []
  }
 ],
 "metadata": {
  "kernelspec": {
   "display_name": "Python 3",
   "language": "python",
   "name": "python3"
  },
  "language_info": {
   "codemirror_mode": {
    "name": "ipython",
    "version": 3
   },
   "file_extension": ".py",
   "mimetype": "text/x-python",
   "name": "python",
   "nbconvert_exporter": "python",
   "pygments_lexer": "ipython3",
   "version": "3.7.9"
  }
 },
 "nbformat": 4,
 "nbformat_minor": 5
}
